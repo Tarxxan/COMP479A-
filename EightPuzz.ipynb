{
 "cells": [
  {
   "cell_type": "code",
   "execution_count": 1,
   "id": "78714b2c",
   "metadata": {},
   "outputs": [],
   "source": [
    "class EightPuzz:\n",
    "    def __init__(self, initial_state, goal_state):\n",
    "        self.initial_state = initial_state\n",
    "        self.goal_state = goal_state\n",
    "        self.closed_list = []\n",
    "\n",
    "    def get_moves(self, state):\n",
    "        possible_moves = []\n",
    "        pos_x, pos_y = self.find_blank_coords(state)\n",
    "\n",
    "        if pos_x > 0:\n",
    "            possible_moves.append(\"up\")\n",
    "        if pos_x < 2:\n",
    "            possible_moves.append(\"down\")\n",
    "        if pos_y > 0:\n",
    "            possible_moves.append(\"left\")\n",
    "        if pos_y < 2:\n",
    "            possible_moves.append(\"right\")\n",
    "        return possible_moves\n",
    "\n",
    "    def execute_move(self, state, move):\n",
    "        pos_x, pos_y = self.find_blank_coords(state)\n",
    "        new_state = self.copy(state)\n",
    "\n",
    "        if move == \"up\":\n",
    "            new_state[pos_x][pos_y] = new_state[pos_x - 1][pos_y]\n",
    "            new_state[pos_x - 1][pos_y] = state[pos_x][pos_y]\n",
    "        elif move == \"down\":\n",
    "            new_state[pos_x][pos_y] = new_state[pos_x + 1][pos_y]\n",
    "            new_state[pos_x + 1][pos_y] = state[pos_x][pos_y]\n",
    "        elif move == \"left\":\n",
    "            new_state[pos_x][pos_y] = new_state[pos_x][pos_y - 1]\n",
    "            new_state[pos_x][pos_y - 1] = state[pos_x][pos_y]\n",
    "        elif move == \"right\":\n",
    "            new_state[pos_x][pos_y] = new_state[pos_x][pos_y + 1]\n",
    "            new_state[pos_x][pos_y + 1] = state[pos_x][pos_y]\n",
    "\n",
    "        return new_state\n",
    "\n",
    "    def successor_state_gen(self, state):\n",
    "        successors = []\n",
    "        possible_moves = self.get_moves(state)\n",
    "        for moves in possible_moves:\n",
    "            successors.append(self.execute_move(state, moves))\n",
    "        print(successors)\n",
    "\n",
    "    def find_blank_coords(self, state):\n",
    "        for i in range(3):\n",
    "            for j in range(3):\n",
    "                if state[i][j] == 'B':\n",
    "                    return i, j\n",
    "\n",
    "    def copy(self, state):\n",
    "        return [row[:] for row in state]\n",
    "\n",
    "    def generate_path(self, closed_list):\n",
    "        path = []\n",
    "        path.append(closed_list[-1][1])\n",
    "        current_state = closed_list[-1][1]\n",
    "        for i in range(len(closed_list) - 1, -1, -1):\n",
    "            if current_state == closed_list[i][1]:\n",
    "                continue\n",
    "            else:\n",
    "                if current_state in self.successor_state_gen(closed_list[i][1]):\n",
    "                    print(current_state)\n",
    "                    path.append(closed_list[i][1])\n",
    "                    current_state = closed_list[i][1]"
   ]
  },
  {
   "cell_type": "code",
   "execution_count": 2,
   "id": "17c5cc1a",
   "metadata": {},
   "outputs": [],
   "source": [
    "class Heuristics:\n",
    "\n",
    "    @staticmethod\n",
    "    def hamming_distance(puzzle, successor):\n",
    "\n",
    "        distance = 0\n",
    "        for i in range(3):\n",
    "            for j in range(3):\n",
    "                if successor[i][j] != puzzle.goal_state[i][j]:\n",
    "                    distance += 1\n",
    "        return tuple([distance, successor])\n",
    "\n",
    "    @staticmethod\n",
    "    def manhattan_distance(puzzle, successor):\n",
    "        distance = 0\n",
    "        for i in range(3):\n",
    "            for j in range(3):\n",
    "                if successor[i][j] != 'B':\n",
    "                    goal_row = (successor[i][j] - 1) // 3\n",
    "                    goal_col = (successor[i][j] - 1) % 3\n",
    "                else:\n",
    "                    goal_row = 2\n",
    "                    goal_col = 2\n",
    "                distance += (abs(i - goal_row) + abs(j - goal_col))\n",
    "        return tuple([distance, successor])\n",
    "\n",
    "    @staticmethod\n",
    "    def permutation_distance(puzzle, successor):\n",
    "\n",
    "        distance = 0\n",
    "        flattened = [element for sublist in successor for element in sublist]\n",
    "        for i in range(9):\n",
    "            for j in range(i + 1, 9):\n",
    "                if flattened[i] == 'B':\n",
    "                    distance += 1\n",
    "                elif flattened[j] != 'B' and flattened[i] > flattened[j]:\n",
    "                    distance += 1\n",
    "        return tuple([distance, successor])\n",
    "    @staticmethod\n",
    "    def getInvCount(current_state):\n",
    "        inversions = 0\n",
    "        flattened = [element for sublist in current_state for element in sublist]\n",
    "        for i in range(0, 9):\n",
    "            for j in range(i + 1, 9):\n",
    "                if flattened[i] != 'B' and flattened[j] != 'B' and flattened[i] > flattened[j]:\n",
    "                    inversions += 1\n",
    "        return inversions\n",
    "\n",
    "    @staticmethod\n",
    "    def inversion_manhattan(puzzle, successor):\n",
    "        distance = 0\n",
    "        for i in range(3):\n",
    "            for j in range(3):\n",
    "                if successor[i][j] != 'B':\n",
    "                    goal_row = (successor[i][j] - 1) // 3\n",
    "                    goal_col = (successor[i][j] - 1) % 3\n",
    "                else:\n",
    "                    goal_row = 2\n",
    "                    goal_col = 2\n",
    "                distance += (abs(i - goal_row) + abs(j - goal_col))\n",
    "            distance += Heuristics.getInvCount(successor)\n",
    "        return tuple([distance, successor])\n",
    "\n",
    "\n"
   ]
  },
  {
   "cell_type": "code",
   "execution_count": 3,
   "id": "403529bc",
   "metadata": {},
   "outputs": [],
   "source": [
    "def depth_first(puzzle):\n",
    "    i = 0\n",
    "    open_list = []\n",
    "    closed_list = []\n",
    "    start_state = puzzle.initial_state\n",
    "\n",
    "    open_list = [start_state]\n",
    "\n",
    "    while open_list:\n",
    "        #         Replicates stack by popping last element put into list\n",
    "        current_state = open_list.pop()\n",
    "\n",
    "        if current_state == puzzle.goal_state:\n",
    "            return i, current_state, \"closed_list \" + str(len(closed_list))\n",
    "\n",
    "        else:\n",
    "            for moves in puzzle.get_moves(current_state):\n",
    "                successor_state = puzzle.execute_move(current_state, moves)\n",
    "                closed_list.append(current_state)\n",
    "\n",
    "                if successor_state not in closed_list and successor_state not in open_list:\n",
    "                    open_list.append(successor_state)\n",
    "        i = i + 1\n",
    "    return None\n",
    "\n",
    "\n",
    "def breadth_first(puzzle):\n",
    "    i = 0\n",
    "    open_list = []\n",
    "    closed_list = []\n",
    "    start_state = puzzle.initial_state\n",
    "\n",
    "    open_list = [start_state]\n",
    "\n",
    "    while open_list:\n",
    "        #         Takes first element in the list.\n",
    "        current_state = open_list.pop(0)\n",
    "\n",
    "        if current_state == puzzle.goal_state:\n",
    "            return i, current_state, \"closed_list\" + str(len(closed_list))\n",
    "\n",
    "        else:\n",
    "            for moves in puzzle.get_moves(current_state):\n",
    "                successor_state = puzzle.execute_move(current_state, moves)\n",
    "                closed_list.append(current_state)\n",
    "\n",
    "                if successor_state not in closed_list and successor_state not in open_list:\n",
    "                    open_list.append(successor_state)\n",
    "        i = i + 1\n",
    "    return None\n",
    "\n",
    "\n",
    "# Uses heuristics so i will default it to hamming distance\n",
    "def best_first(puzzle, heuristics):\n",
    "    i = 0\n",
    "    open_list = []\n",
    "    closed_list = []\n",
    "    start_state = puzzle.initial_state\n",
    "    open_list = [tuple([1, start_state])]\n",
    "\n",
    "    while open_list:\n",
    "        open_list = sorted(open_list, key=lambda tup: tup[0])\n",
    "        current_state_t = open_list.pop(0)\n",
    "\n",
    "        current_state = current_state_t[1]\n",
    "\n",
    "        if current_state == puzzle.goal_state:\n",
    "            puzzle.closed_list = closed_list\n",
    "            return current_state_t,i\n",
    "        else:\n",
    "\n",
    "            for moves in puzzle.get_moves(current_state):\n",
    "                successor = puzzle.execute_move(current_state, moves)\n",
    "\n",
    "                match heuristics:\n",
    "                    case \"hamming_distance\":\n",
    "                        successor_states = Heuristics.hamming_distance(puzzle, successor)\n",
    "                    case \"manhattan_distance\":\n",
    "                        successor_states = Heuristics.manhattan_distance(puzzle, successor)\n",
    "                    case \"permutation_distance\":\n",
    "                        successor_states = Heuristics.permutation_distance(puzzle, successor)\n",
    "                    case \"inversion_manhattan\":\n",
    "                        successor_states = Heuristics.inversion_manhattan(puzzle, successor)\n",
    "                    case _:\n",
    "                        successor_states = Heuristics.hamming_distance(puzzle, successor)\n",
    "\n",
    "                if successor_states not in closed_list and successor_states not in open_list:\n",
    "                    open_list.append(successor_states)\n",
    "            closed_list.append(current_state_t)\n",
    "            i=i+1\n",
    "    return None\n",
    "\n",
    "\n",
    "def a_star(puzzle, heuristics):\n",
    "    closed_list = []\n",
    "    start_state = puzzle.initial_state\n",
    "    open_list = [tuple([1, start_state, 0])]\n",
    "    i=0\n",
    "    while open_list:\n",
    "        open_list = sorted(open_list, key=lambda tup: tup[0])\n",
    "        current_state_t = open_list.pop(0)\n",
    "\n",
    "        current_state = current_state_t[1]\n",
    "        depth = current_state_t[2]\n",
    "\n",
    "        if current_state == puzzle.goal_state:\n",
    "            puzzle.closed_list = closed_list\n",
    "            return current_state_t,i\n",
    "\n",
    "\n",
    "        else:\n",
    "            execute = True\n",
    "            for moves in puzzle.get_moves(current_state):\n",
    "                state = puzzle.execute_move(current_state, moves)\n",
    "                match heuristics:\n",
    "                    case \"hamming_distance\":\n",
    "                        successor_state = Heuristics.hamming_distance(puzzle, state)\n",
    "                    case \"manhattan_distance\":\n",
    "                        successor_state = Heuristics.manhattan_distance(puzzle, state)\n",
    "                    case \"permutation_distance\":\n",
    "                        successor_state = Heuristics.permutation_distance(puzzle, state)\n",
    "                    case \"inversion_manhattan\":\n",
    "                        successor_state = Heuristics.inversion_manhattan(puzzle, state)\n",
    "                    case _:\n",
    "                        successor_state = Heuristics.hamming_distance(puzzle, current_state)\n",
    "\n",
    "                successor_state = tuple([(successor_state[0] + depth+ 1), successor_state[1], depth + 1])\n",
    "#                 if state not in closed_list and state not in open_list:\n",
    "#                     open_list.append(state)\n",
    "#             closed_list.append(current_state_t)\n",
    "\n",
    "                if not closed_list:\n",
    "                    open_list.append(successor_state)\n",
    "\n",
    "                #     remove closed states that have a higher cost\n",
    "                to_remove = puzzle.copy(closed_list)\n",
    "                for closed in to_remove:\n",
    "                    if closed[1] == successor_state[1] and closed[0] > successor_state[0]:\n",
    "                        open_list.append(successor_state)\n",
    "                        closed_list.remove(closed)\n",
    "\n",
    "                temp_open_list = puzzle.copy(open_list)\n",
    "                for expanded in temp_open_list:\n",
    "                    if expanded[1] == successor_state[1] and expanded[0] > successor_state[0]:\n",
    "                        open_list.remove(expanded)\n",
    "                        open_list.append(successor_state)\n",
    "                        execute = False\n",
    "                        break\n",
    "                if execute:\n",
    "                    open_list.append(successor_state)\n",
    "        closed_list.append(current_state_t)\n",
    "        i=i+1\n",
    "    return None\n",
    "\n",
    "    "
   ]
  },
  {
   "cell_type": "code",
   "execution_count": 15,
   "id": "49a9cb78",
   "metadata": {},
   "outputs": [],
   "source": [
    "initial_state = [[1,2,3],['B',4,6],[7,5,8]]\n",
    "# initial_state = [[1,2,3],[4,5,6],[7,8,'B']]\n",
    "goal_state = [[1,2,3],[4,5,6],[7,8,'B']]\n",
    "\n",
    "puzzle = EightPuzz(initial_state,goal_state)"
   ]
  },
  {
   "cell_type": "code",
   "execution_count": 5,
   "id": "305a4fe6",
   "metadata": {
    "scrolled": false
   },
   "outputs": [
    {
     "data": {
      "text/plain": [
       "(3527, [[1, 2, 3], [8, 'B', 4], [7, 6, 5]], 'closed_list 9966')"
      ]
     },
     "execution_count": 5,
     "metadata": {},
     "output_type": "execute_result"
    }
   ],
   "source": [
    "depth_first(puzzle)"
   ]
  },
  {
   "cell_type": "code",
   "execution_count": 6,
   "id": "7298dd8c",
   "metadata": {
    "scrolled": true
   },
   "outputs": [
    {
     "data": {
      "text/plain": [
       "(34, [[1, 2, 3], [8, 'B', 4], [7, 6, 5]], 'closed_list94')"
      ]
     },
     "execution_count": 6,
     "metadata": {},
     "output_type": "execute_result"
    }
   ],
   "source": [
    "breadth_first(puzzle)"
   ]
  },
  {
   "cell_type": "code",
   "execution_count": 7,
   "id": "306aa5f8",
   "metadata": {},
   "outputs": [
    {
     "data": {
      "text/plain": [
       "((0, [[1, 2, 3], [8, 'B', 4], [7, 6, 5]]), 5)"
      ]
     },
     "execution_count": 7,
     "metadata": {},
     "output_type": "execute_result"
    }
   ],
   "source": [
    "best_first(puzzle,\"hamming_distance\")"
   ]
  },
  {
   "cell_type": "code",
   "execution_count": 8,
   "id": "930d3886",
   "metadata": {},
   "outputs": [
    {
     "data": {
      "text/plain": [
       "((10, [[1, 2, 3], [8, 'B', 4], [7, 6, 5]]), 629)"
      ]
     },
     "execution_count": 8,
     "metadata": {},
     "output_type": "execute_result"
    }
   ],
   "source": [
    "best_first(puzzle,\"manhattan_distance\")\n"
   ]
  },
  {
   "cell_type": "code",
   "execution_count": 9,
   "id": "7843a032",
   "metadata": {},
   "outputs": [
    {
     "data": {
      "text/plain": [
       "((11, [[1, 2, 3], [8, 'B', 4], [7, 6, 5]]), 2976)"
      ]
     },
     "execution_count": 9,
     "metadata": {},
     "output_type": "execute_result"
    }
   ],
   "source": [
    "best_first(puzzle,\"permutation_distance\")"
   ]
  },
  {
   "cell_type": "code",
   "execution_count": 10,
   "id": "7ead6775",
   "metadata": {},
   "outputs": [
    {
     "data": {
      "text/plain": [
       "((31, [[1, 2, 3], [8, 'B', 4], [7, 6, 5]]), 8)"
      ]
     },
     "execution_count": 10,
     "metadata": {},
     "output_type": "execute_result"
    }
   ],
   "source": [
    "best_first(puzzle,\"inversion_manhattan\")"
   ]
  },
  {
   "cell_type": "code",
   "execution_count": 16,
   "id": "b2fd0180",
   "metadata": {},
   "outputs": [
    {
     "name": "stdout",
     "output_type": "stream",
     "text": [
      "((3, [[1, 2, 3], [4, 5, 6], [7, 8, 'B']], 3), 4)\n"
     ]
    }
   ],
   "source": [
    "print(a_star(puzzle,\"hamming_distance\"))"
   ]
  },
  {
   "cell_type": "code",
   "execution_count": 17,
   "id": "8ec5453f",
   "metadata": {},
   "outputs": [
    {
     "name": "stdout",
     "output_type": "stream",
     "text": [
      "((3, [[1, 2, 3], [4, 5, 6], [7, 8, 'B']], 3), 3)\n"
     ]
    }
   ],
   "source": [
    "print(a_star(puzzle,\"manhattan_distance\"))"
   ]
  },
  {
   "cell_type": "code",
   "execution_count": 18,
   "id": "43d2b454",
   "metadata": {},
   "outputs": [
    {
     "name": "stdout",
     "output_type": "stream",
     "text": [
      "((3, [[1, 2, 3], [4, 5, 6], [7, 8, 'B']], 3), 5)\n"
     ]
    }
   ],
   "source": [
    "print(a_star(puzzle,\"permutation_distance\"))"
   ]
  },
  {
   "cell_type": "code",
   "execution_count": 19,
   "id": "1ff9884c",
   "metadata": {},
   "outputs": [
    {
     "name": "stdout",
     "output_type": "stream",
     "text": [
      "((3, [[1, 2, 3], [4, 5, 6], [7, 8, 'B']], 3), 3)\n"
     ]
    }
   ],
   "source": [
    "print(a_star(puzzle,\"inversion_manhattan\"))"
   ]
  },
  {
   "cell_type": "code",
   "execution_count": null,
   "id": "066dfd77",
   "metadata": {},
   "outputs": [],
   "source": []
  }
 ],
 "metadata": {
  "kernelspec": {
   "display_name": "Python 3 (ipykernel)",
   "language": "python",
   "name": "python3"
  },
  "language_info": {
   "codemirror_mode": {
    "name": "ipython",
    "version": 3
   },
   "file_extension": ".py",
   "mimetype": "text/x-python",
   "name": "python",
   "nbconvert_exporter": "python",
   "pygments_lexer": "ipython3",
   "version": "3.11.0"
  }
 },
 "nbformat": 4,
 "nbformat_minor": 5
}
