{
 "cells": [
  {
   "cell_type": "code",
   "execution_count": 1,
   "id": "78714b2c",
   "metadata": {},
   "outputs": [],
   "source": [
    "import time\n",
    "\n",
    "class EightPuzz:\n",
    "    def __init__(self, initial_state, goal_state):\n",
    "        self.initial_state = initial_state\n",
    "        self.goal_state = goal_state\n",
    "\n",
    "    def get_moves(self, state):\n",
    "        possible_moves = []\n",
    "        pos_x, pos_y = self.find_blank_coords(state)\n",
    "        \n",
    "        if pos_x > 0:\n",
    "            possible_moves.append(\"up\")\n",
    "        if pos_x < 2:\n",
    "            possible_moves.append(\"down\")\n",
    "        if pos_y > 0:\n",
    "            possible_moves.append(\"left\")\n",
    "        if pos_y < 2:\n",
    "            possible_moves.append(\"right\")\n",
    "        return possible_moves\n",
    "\n",
    "    def execute_move(self, state, move):\n",
    "        pos_x, pos_y = self.find_blank_coords(state)\n",
    "        new_state = state.copy()\n",
    "        \n",
    "        if move == \"up\":\n",
    "            new_state[pos_x][pos_y] = new_state[pos_x - 1][pos_y]\n",
    "            new_state[pos_x - 1][pos_y] = state[pos_x][pos_y]\n",
    "        elif move == \"down\":\n",
    "            new_state[pos_x][pos_y] = new_state[pos_x + 1][pos_y]\n",
    "            new_state[pos_x + 1][pos_y] = state[pos_x][pos_y]\n",
    "        elif move == \"left\":\n",
    "            new_state[pos_x][pos_y] = new_state[pos_x][pos_y - 1] \n",
    "            new_state[pos_x][pos_y - 1]  = state[pos_x][pos_y]\n",
    "        elif move == \"right\":\n",
    "            new_state[pos_x][pos_y] = new_state[pos_x][pos_y + 1]\n",
    "            new_state[pos_x][pos_y + 1] = state[pos_x][pos_y]\n",
    "        \n",
    "        return new_state\n",
    "\n",
    "    def successor_state_gen(self,state):\n",
    "        successors = []\n",
    "        possible_moves = self.get_moves(states)\n",
    "        for moves in possible_moves:\n",
    "            successors.append(execute_move(moves))\n",
    "        print(successors)\n",
    "    \n",
    "    def find_blank_coords(self, state):\n",
    "        for i in range(3):\n",
    "            for j in range(3):\n",
    "                if state[i][j] == 'B':\n",
    "                    return i, j"
   ]
  },
  {
   "cell_type": "code",
   "execution_count": null,
   "id": "35bae843",
   "metadata": {},
   "outputs": [],
   "source": [
    "class numlink:\n",
    "    def __init__(self, initial_state, goal_state):\n",
    "        self.initial_state = initial_state\n",
    "        self.goal_state = goal_state\n",
    "    \n",
    "     def get_moves(self, state):\n",
    "        possible_moves = []\n",
    "        pos_x, pos_y = self.find_blank_coords(state)\n",
    "        \n",
    "        if pos_x > 0:\n",
    "            possible_moves.append(\"up\")\n",
    "        if pos_x < 2:\n",
    "            possible_moves.append(\"down\")\n",
    "        if pos_y > 0:\n",
    "            possible_moves.append(\"left\")\n",
    "        if pos_y < 2:\n",
    "            possible_moves.append(\"right\")\n",
    "        return possible_moves\n",
    "    \n",
    "    def execute_move(self, state, move):\n",
    "        pos_x, pos_y = self.find_blank_coords(state)\n",
    "        new_state = state.copy()\n",
    "        \n",
    "        if move == \"up\":\n",
    "            new_state[pos_x][pos_y] = new_state[pos_x - 1][pos_y]\n",
    "            new_state[pos_x - 1][pos_y] = state[pos_x][pos_y]\n",
    "        elif move == \"down\":\n",
    "            new_state[pos_x][pos_y] = new_state[pos_x + 1][pos_y]\n",
    "            new_state[pos_x + 1][pos_y] = state[pos_x][pos_y]\n",
    "        elif move == \"left\":\n",
    "            new_state[pos_x][pos_y] = new_state[pos_x][pos_y - 1] \n",
    "            new_state[pos_x][pos_y - 1]  = state[pos_x][pos_y]\n",
    "        elif move == \"right\":\n",
    "            new_state[pos_x][pos_y] = new_state[pos_x][pos_y + 1]\n",
    "            new_state[pos_x][pos_y + 1] = state[pos_x][pos_y]\n",
    "    \n",
    "    def find_blank_coords(self, state):\n",
    "        for i in range(3):\n",
    "            for j in range(3):\n",
    "                if state[i][j] == '*':\n",
    "                    return i, j\n",
    "    "
   ]
  },
  {
   "cell_type": "code",
   "execution_count": 103,
   "id": "17c5cc1a",
   "metadata": {},
   "outputs": [],
   "source": [
    "class Heuristics:\n",
    "    \n",
    "    @staticmethod\n",
    "    def hamming_distance(puzzle,current_state):\n",
    "        hamming_queue = []\n",
    "        successor_state =[]\n",
    "        for moves in puzzle.get_moves(current_state):\n",
    "            successor_state.append(puzzle.execute_move(current_state, moves))\n",
    "\n",
    "        for successor in successor_state:\n",
    "            curr_distance=0\n",
    "            for i in range(3):\n",
    "                for j in range(3):\n",
    "                    if successor[i][j] != puzzle.goal_state[i][j]:\n",
    "                        curr_distance+=1\n",
    "            hamming_queue.append(tuple([curr_distance,successor]))\n",
    "        return hamming_queue\n",
    "\n",
    "    @staticmethod\n",
    "    def manhattan_distance(puzzle,current_state):\n",
    "        \n",
    "        manhattan_queue=[]\n",
    "        successor_state =[]\n",
    "        \n",
    "        for moves in puzzle.get_moves(current_state):\n",
    "            successor_state.append(puzzle.execute_move(current_state, moves))\n",
    "            \n",
    "        for successor in successor_state:\n",
    "            distance=0\n",
    "            for i in range(3):\n",
    "                for j in range(3):\n",
    "                    if successor[i][j]!='B':\n",
    "                        goal_row = (successor[i][j]-1)//3\n",
    "                        goal_col = (successor[i][j]-1)%3\n",
    "                    else:\n",
    "                        goal_row = 2\n",
    "                        goal_col = 2\n",
    "                    distance += (abs(i-goal_row)+abs(j-goal_col))\n",
    "                    \n",
    "#                     print(f\"{successor[i][j]} Current:{i,j} Goal:{goal_row,goal_col} Distance:{distance}\")\n",
    "            manhattan_queue.append(tuple([distance,successor]))\n",
    "        return manhattan_queue\n",
    "    \n",
    "    @staticmethod\n",
    "    def permutation_distance(puzzle,current_state):\n",
    "        permutation_queue=[]\n",
    "        successor_state =[]\n",
    "        \n",
    "        for moves in puzzle.get_moves(current_state):\n",
    "            successor_state.append(puzzle.execute_move(current_state, moves))\n",
    "            \n",
    "        for successor in successor_state:\n",
    "            distance=0\n",
    "            flattened = [element for sublist in successor for element in sublist]        \n",
    "            for i in range(9):\n",
    "                for j in range(i+1 ,9):\n",
    "                    if flattened[i]=='B':\n",
    "                        distance +=1 \n",
    "                    elif flattened[j]!='B' and flattened[i]>flattened[j] :\n",
    "                        distance +=1 \n",
    "            permutation_queue.append(tuple([distance,successor]))\n",
    "        return permutation_queue\n",
    "    \n",
    "    def getInvCount(current_state):\n",
    "    inversions = 0\n",
    "    for i in range(0, 9):\n",
    "        for j in range(i + 1, 9):\n",
    "            if current_state[j] != 'B' and current_state[i] != 'B' and current_state[i] > current_state[j]:\n",
    "                inversions+=1\n",
    "    return inversions\n",
    "    \n",
    "    @staticmethod\n",
    "    def inversion_manhattan(puzzle,current_state):\n",
    "        inversions_queue=[]\n",
    "        successor_state =[]\n",
    "        \n",
    "        for moves in puzzle.get_moves(current_state):\n",
    "            successor_state.append(puzzle.execute_move(current_state, moves))\n",
    "     \n",
    "        for successor in successor_state:\n",
    "            distance=0\n",
    "            for i in range(3):\n",
    "                for j in range(3):\n",
    "                    if successor[i][j]!='B':\n",
    "                        goal_row = (successor[i][j]-1)//3\n",
    "                        goal_col = (successor[i][j]-1)%3\n",
    "                    else:\n",
    "                        goal_row = 2\n",
    "                        goal_col = 2\n",
    "                    distance += (abs(i-goal_row)+abs(j-goal_col))\n",
    "                distance+=getInvCount(successor)\n",
    "                inversions_queue.append(tuple([distance,successor]))\n",
    "            return inversions_queue\n",
    "        \n",
    "    def getInvCount(current_state):\n",
    "    inversions = 0\n",
    "    for i in range(0, 9):\n",
    "        for j in range(i + 1, 9):\n",
    "            if current_state[j] != 'B' and current_state[i] != 'B' and current_state[i] > current_state[j]:\n",
    "                inversions+=1\n",
    "    return inversions"
   ]
  },
  {
   "cell_type": "code",
   "execution_count": 104,
   "id": "403529bc",
   "metadata": {},
   "outputs": [],
   "source": [
    "def depth_first(puzzle):\n",
    "    i=0\n",
    "    open_list = []\n",
    "    closed_list = []\n",
    "    start_state = puzzle.initial_state\n",
    "    \n",
    "    open_list = [start_state]\n",
    "    \n",
    "    while open_list:\n",
    "#         Replicates stack by popping last element put into list\n",
    "        current_state = open_list.pop()\n",
    "        \n",
    "        \n",
    "        if current_state == puzzle.goal_state:\n",
    "            return i,current_state\n",
    "        \n",
    "        else: \n",
    "            for moves in puzzle.get_moves(current_state):\n",
    "                successor_state = puzzle.execute_move(current_state, moves)\n",
    "                closed_list.append(current_state)\n",
    "            \n",
    "                if successor_state not in closed_list and successor_state not in open_list :\n",
    "                    open_list.append(successor_state)\n",
    "        i=i+1\n",
    "    return None\n",
    "    \n",
    "def breadth_first(puzzle):\n",
    "    i=0\n",
    "    open_list = []\n",
    "    closed_list = []\n",
    "    start_state = puzzle.initial_state\n",
    "    \n",
    "    open_list = [start_state]\n",
    "    \n",
    "    while open_list:\n",
    "#         Takes first element in the list.\n",
    "        current_state = open_list.pop(0)\n",
    "        \n",
    "        if current_state == puzzle.goal_state:\n",
    "            return i,current_state\n",
    "        \n",
    "        else: \n",
    "            for moves in puzzle.get_moves(current_state):\n",
    "                successor_state = puzzle.execute_move(current_state, moves)\n",
    "                closed_list.append(current_state)\n",
    "            \n",
    "                if successor_state not in closed_list and successor_state not in open_list :\n",
    "                    open_list.append(successor_state)\n",
    "        i=i+1\n",
    "    return None\n",
    "\n",
    "# Uses heuristics so i will default it to hamming distance\n",
    "def best_first(puzzle,heuristics):\n",
    "    i=0\n",
    "    open_list = []\n",
    "    closed_list = []\n",
    "    start_state = puzzle.initial_state\n",
    "    open_list=[tuple([1,start_state])]\n",
    "    \n",
    "    while open_list:\n",
    "        open_list = sorted(open_list, key=lambda tup: tup[0])\n",
    "        current_state_t = open_list.pop(0)\n",
    "        \n",
    "        current_state = current_state_t[1]\n",
    "        \n",
    "        if current_state == puzzle.goal_state:\n",
    "            return current_state_t\n",
    "        \n",
    "        else: \n",
    "            match heuristics:\n",
    "                case \"hamming_distance\":\n",
    "                    successor_states = Heuristics.hamming_distance(puzzle,current_state)  \n",
    "                case \"manhattan_distance\":\n",
    "                    successor_states = Heuristics.manhattan_distance(puzzle,current_state)\n",
    "                case \"permutation_distance\":\n",
    "                    successor_states = Heuristics.permutation_distance(puzzle,current_state) \n",
    "                case _:\n",
    "                    successor_states = Heuristics.hamming_distance(puzzle,current_state)  \n",
    "            for state in successor_states:\n",
    "                if state not in closed_list and state not in open_list:\n",
    "                    open_list.append(state)\n",
    "        closed_list.append(current_state_t)\n",
    "        i=i+1\n",
    "    return None\n",
    "            \n",
    "def a_star(puzzle,heuristics):\n",
    "  \n",
    "    depth=0\n",
    "    open_list = []\n",
    "    closed_list = []\n",
    "    start_state = puzzle.initial_state\n",
    "    open_list=[tuple([0,start_state,0])]\n",
    "    \n",
    "    while open_list:\n",
    "        open_list = sorted(open_list, key=lambda tup: tup[0])\n",
    "        current_state_t = open_list.pop(0)\n",
    "        \n",
    "        current_state = current_state_t[1]\n",
    "        depth=current_state_t[2]\n",
    "        \n",
    "        if current_state == puzzle.goal_state:\n",
    "            return current_state_t\n",
    "        \n",
    "        else:\n",
    "            match heuristics:\n",
    "                case \"hamming_distance\":\n",
    "                    successor_states = Heuristics.hamming_distance(puzzle,current_state)  \n",
    "                case \"manhattan_distance\":\n",
    "                    successor_states = Heuristics.manhattan(puzzle,current_state) \n",
    "                case \"permutation_distance\":\n",
    "                    successor_states = Heuristics.permutation_distance(puzzle,current_state) \n",
    "                case _:\n",
    "                    successor_states = Heuristics.hamming_distance(puzzle,current_state)  \n",
    "            for state in successor_states:\n",
    "                state= tuple([(state[0]+depth+1),state[1],depth+1])\n",
    "                if state not in closed_list and state not in open_list:\n",
    "                    open_list.append(state)\n",
    "        closed_list.append(current_state_t)\n",
    "    return None            "
   ]
  },
  {
   "cell_type": "code",
   "execution_count": 105,
   "id": "49a9cb78",
   "metadata": {},
   "outputs": [],
   "source": [
    "initial_state = [['B',4,5],[3,1,2],[7,8,6]]\n",
    "# initial_state = [[1,2,3],[4,5,6],[7,8,'B']]\n",
    "goal_state = [[1,2,3],[4,5,6],[7,8,'B']]\n",
    "\n",
    "puzzle = EightPuzz(initial_state,goal_state)"
   ]
  },
  {
   "cell_type": "code",
   "execution_count": 97,
   "id": "305a4fe6",
   "metadata": {
    "scrolled": false
   },
   "outputs": [
    {
     "data": {
      "text/plain": [
       "(0, [[1, 2, 3], [4, 5, 6], [7, 8, 'B']])"
      ]
     },
     "execution_count": 97,
     "metadata": {},
     "output_type": "execute_result"
    }
   ],
   "source": [
    "depth_first(puzzle)"
   ]
  },
  {
   "cell_type": "code",
   "execution_count": 98,
   "id": "7298dd8c",
   "metadata": {
    "scrolled": true
   },
   "outputs": [
    {
     "data": {
      "text/plain": [
       "(1274, [[1, 2, 3], [4, 5, 6], [7, 8, 'B']])"
      ]
     },
     "execution_count": 98,
     "metadata": {},
     "output_type": "execute_result"
    }
   ],
   "source": [
    "breadth_first(puzzle)"
   ]
  },
  {
   "cell_type": "code",
   "execution_count": 99,
   "id": "930d3886",
   "metadata": {},
   "outputs": [
    {
     "data": {
      "text/plain": [
       "(0, [[1, 2, 3], [4, 5, 6], [7, 8, 'B']])"
      ]
     },
     "execution_count": 99,
     "metadata": {},
     "output_type": "execute_result"
    }
   ],
   "source": [
    "start_time = time.monotonic()\n",
    "best_first(puzzle,\"manhattan_distance\")\n",
    "# end_time = time.monotonic()\n",
    "# print(timedelta(seconds=end_time - start_time))"
   ]
  },
  {
   "cell_type": "code",
   "execution_count": 100,
   "id": "306aa5f8",
   "metadata": {},
   "outputs": [
    {
     "data": {
      "text/plain": [
       "(0, [[1, 2, 3], [4, 5, 6], [7, 8, 'B']])"
      ]
     },
     "execution_count": 100,
     "metadata": {},
     "output_type": "execute_result"
    }
   ],
   "source": [
    "start_time = time.monotonic()\n",
    "best_first(puzzle,\"hamming_distance\")\n",
    "# end_time = time.monotonic()\n",
    "# print(timedelta(seconds=end_time - start_time))"
   ]
  },
  {
   "cell_type": "code",
   "execution_count": 106,
   "id": "7843a032",
   "metadata": {},
   "outputs": [
    {
     "data": {
      "text/plain": [
       "(0, [[1, 2, 3], [4, 5, 6], [7, 8, 'B']])"
      ]
     },
     "execution_count": 106,
     "metadata": {},
     "output_type": "execute_result"
    }
   ],
   "source": [
    "best_first(puzzle,\"permutation_distance\")"
   ]
  },
  {
   "cell_type": "code",
   "execution_count": 42,
   "id": "b2fd0180",
   "metadata": {},
   "outputs": [
    {
     "data": {
      "text/plain": [
       "(12, [[1, 2, 3], [4, 5, 6], [7, 8, 'B']], 12)"
      ]
     },
     "execution_count": 42,
     "metadata": {},
     "output_type": "execute_result"
    }
   ],
   "source": [
    "a_star(puzzle,\"hamming_distance\")"
   ]
  },
  {
   "cell_type": "code",
   "execution_count": 43,
   "id": "8ec5453f",
   "metadata": {},
   "outputs": [
    {
     "data": {
      "text/plain": [
       "(12, [[1, 2, 3], [4, 5, 6], [7, 8, 'B']], 12)"
      ]
     },
     "execution_count": 43,
     "metadata": {},
     "output_type": "execute_result"
    }
   ],
   "source": [
    "a_star(puzzle,\"manhattan_distance\")"
   ]
  },
  {
   "cell_type": "code",
   "execution_count": 107,
   "id": "43d2b454",
   "metadata": {},
   "outputs": [
    {
     "data": {
      "text/plain": [
       "(12, [[1, 2, 3], [4, 5, 6], [7, 8, 'B']], 12)"
      ]
     },
     "execution_count": 107,
     "metadata": {},
     "output_type": "execute_result"
    }
   ],
   "source": [
    "a_star(puzzle,\"permutation_distance\")"
   ]
  }
 ],
 "metadata": {
  "kernelspec": {
   "display_name": "Python 3 (ipykernel)",
   "language": "python",
   "name": "python3"
  },
  "language_info": {
   "codemirror_mode": {
    "name": "ipython",
    "version": 3
   },
   "file_extension": ".py",
   "mimetype": "text/x-python",
   "name": "python",
   "nbconvert_exporter": "python",
   "pygments_lexer": "ipython3",
   "version": "3.10.5"
  }
 },
 "nbformat": 4,
 "nbformat_minor": 5
}
